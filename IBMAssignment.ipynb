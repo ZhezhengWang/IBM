{
 "cells": [
  {
   "cell_type": "code",
   "execution_count": null,
   "id": "e5e865cf-604e-4bdc-8fdc-5dffec596a7c",
   "metadata": {},
   "outputs": [],
   "source": [
    "# This is Bruce's Data Science Notebook"
   ]
  },
  {
   "cell_type": "code",
   "execution_count": null,
   "id": "5e798351-52d4-4d6c-9d7c-2861c11709f5",
   "metadata": {},
   "outputs": [],
   "source": [
    "## Introduction\n",
    "This notebook about IBM data science project."
   ]
  },
  {
   "cell_type": "code",
   "execution_count": null,
   "id": "6f5674ae-f4c8-4506-bf82-d7e7a2fbc6ff",
   "metadata": {},
   "outputs": [],
   "source": [
    "## Data Science Languages\n",
    "- Python\n",
    "- R\n",
    "- SQL"
   ]
  },
  {
   "cell_type": "code",
   "execution_count": null,
   "id": "78ac408b-4002-4104-9b3a-6d708c3d4476",
   "metadata": {},
   "outputs": [],
   "source": [
    "## Data Science Libraries\n",
    "- Scikit-learn\n",
    "- Pandas\n",
    "- NumPy\n",
    "- Matplotlib"
   ]
  },
  {
   "cell_type": "code",
   "execution_count": null,
   "id": "2416125c-f212-431b-ac44-c7812e87dcf3",
   "metadata": {},
   "outputs": [],
   "source": [
    "## Data Science Tools\n",
    "| Tool          | Description               |\n",
    "| ------------- | ------------------------- |\n",
    "| Jupyter       | Interactive Notebooks     |\n",
    "| RStudio       | R Programming             |\n",
    "| Apache Spark  | Big Data                  |\n"
   ]
  },
  {
   "cell_type": "code",
   "execution_count": null,
   "id": "86e66f4e-8b2e-48d9-abaf-316102024b4f",
   "metadata": {},
   "outputs": [],
   "source": [
    "## Arithmetic Expression\n",
    "`9 + 2`, `10 - 6`\n"
   ]
  },
  {
   "cell_type": "code",
   "execution_count": null,
   "id": "cbc7b274-f0f3-45d5-a602-6aecaa624435",
   "metadata": {},
   "outputs": [],
   "source": [
    "# Adding and multiplying number\n",
    "a = 1\n",
    "b = 2\n",
    "add_r = a + b\n",
    "multiply_r = a * b\n",
    "add_r, multiply_r"
   ]
  },
  {
   "cell_type": "code",
   "execution_count": null,
   "id": "f4d88407-c073-4604-98da-f4e7a21aa3c9",
   "metadata": {},
   "outputs": [],
   "source": [
    "# Convert minutes to hours\n",
    "minutes = 180\n",
    "hours = minutes / 60\n",
    "hours"
   ]
  },
  {
   "cell_type": "code",
   "execution_count": null,
   "id": "9ec42b39-65a4-4fe3-b50b-3bfb64824633",
   "metadata": {},
   "outputs": [],
   "source": [
    "## Objectives\n",
    "- Learned what is Data Science\n",
    "- Tools for Data Science"
   ]
  },
  {
   "cell_type": "code",
   "execution_count": null,
   "id": "d67fc02c-699c-4ecf-bb77-aa60918f3020",
   "metadata": {},
   "outputs": [],
   "source": [
    "## Author\n",
    "Zhezheng Wang"
   ]
  }
 ],
 "metadata": {
  "kernelspec": {
   "display_name": "Python 3 (ipykernel)",
   "language": "python",
   "name": "python3"
  },
  "language_info": {
   "codemirror_mode": {
    "name": "ipython",
    "version": 3
   },
   "file_extension": ".py",
   "mimetype": "text/x-python",
   "name": "python",
   "nbconvert_exporter": "python",
   "pygments_lexer": "ipython3",
   "version": "3.10.3"
  }
 },
 "nbformat": 4,
 "nbformat_minor": 5
}
